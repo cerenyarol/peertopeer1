{
 "cells": [
  {
   "cell_type": "markdown",
   "id": "4e4c2621-ec43-4349-a406-687f7e3f27fa",
   "metadata": {},
   "source": [
    "# My Jupyter Notebook on IBM Watson Studio"
   ]
  },
  {
   "cell_type": "markdown",
   "id": "74315add-08da-4ddf-9c89-d4898965fb94",
   "metadata": {},
   "source": [
    "**Ceren Yarol**\n",
    "Student"
   ]
  },
  {
   "cell_type": "markdown",
   "id": "63d3fb07-6441-4b57-8ef1-8b37e07b9744",
   "metadata": {},
   "source": [
    "*I am interested in data science because i find it really interesting and promissing*"
   ]
  },
  {
   "cell_type": "markdown",
   "id": "3038a3bc-2097-4045-ac53-8e743645892b",
   "metadata": {},
   "source": [
    "### MY code below is a simple function with 2 parameters that returns the sum.\n"
   ]
  },
  {
   "cell_type": "code",
   "execution_count": 2,
   "id": "7ef4b12f-2aba-49a2-9fab-2a2e32b62db4",
   "metadata": {},
   "outputs": [],
   "source": [
    "def num_total(a,b):\n",
    "    return a+b"
   ]
  },
  {
   "cell_type": "markdown",
   "id": "1f577f6a-3dd1-4a41-99f9-e22eebbe5e3c",
   "metadata": {},
   "source": [
    "Table of #of children..\n",
    "![alt text](https://github.com/adam-p/markdown-here/raw/master/src/common/images/icon48.png \"Logo Title Text 1\")\n",
    "age | gender | child\n",
    "--- | --- | ---\n",
    "28 | F | 1\n",
    "55 | M | 3\n",
    "---\n"
   ]
  },
  {
   "cell_type": "code",
   "execution_count": null,
   "id": "bcece1ce-ee3c-45e5-b4ff-ffacf39b5df7",
   "metadata": {},
   "outputs": [],
   "source": []
  }
 ],
 "metadata": {
  "kernelspec": {
   "display_name": "Python",
   "language": "python",
   "name": "conda-env-python-py"
  },
  "language_info": {
   "codemirror_mode": {
    "name": "ipython",
    "version": 3
   },
   "file_extension": ".py",
   "mimetype": "text/x-python",
   "name": "python",
   "nbconvert_exporter": "python",
   "pygments_lexer": "ipython3",
   "version": "3.7.12"
  }
 },
 "nbformat": 4,
 "nbformat_minor": 5
}
